{
 "cells": [
  {
   "cell_type": "code",
   "execution_count": 2,
   "id": "cae22883-089d-434e-9e99-f2a000d17883",
   "metadata": {},
   "outputs": [
    {
     "name": "stderr",
     "output_type": "stream",
     "text": [
      "[nltk_data] Downloading package stopwords to\n",
      "[nltk_data]     C:\\Users\\04raj\\AppData\\Roaming\\nltk_data...\n",
      "[nltk_data]   Package stopwords is already up-to-date!\n"
     ]
    },
    {
     "name": "stdout",
     "output_type": "stream",
     "text": [
      "k-Nearest Neighbors Classifier:\n",
      "Accuracy: 64.33 %\n",
      "Precision: 0.68\n",
      "Recall: 0.51\n",
      "Confusion Matrix:\n",
      "[[117  35]\n",
      " [ 72  76]]\n",
      "\n",
      "Naive Bayes Classifier:\n",
      "Accuracy: 77.67 %\n",
      "Precision: 0.78\n",
      "Recall: 0.77\n",
      "Confusion Matrix:\n",
      "[[119  33]\n",
      " [ 34 114]]\n"
     ]
    }
   ],
   "source": [
    "import pandas as pd\n",
    "import numpy as np\n",
    "import re\n",
    "import nltk\n",
    "from nltk.corpus import stopwords\n",
    "from nltk.stem.porter import PorterStemmer\n",
    "from sklearn.model_selection import train_test_split\n",
    "from sklearn.metrics import accuracy_score, precision_score, recall_score, confusion_matrix\n",
    "from sklearn.feature_extraction.text import CountVectorizer\n",
    "from sklearn.naive_bayes import MultinomialNB\n",
    "from sklearn.neighbors import KNeighborsClassifier\n",
    "\n",
    "# Load the dataset\n",
    "dataset = pd.read_csv('Restaurant_Reviews_Dataset.tsv', sep='\\t')\n",
    "\n",
    "# Preprocess the text data\n",
    "nltk.download('stopwords')\n",
    "corpus = []\n",
    "for i in range(0, 1000):\n",
    "    review = re.sub('[^a-zA-Z]', ' ', dataset['Review'][i])\n",
    "    review = review.lower()\n",
    "    review = review.split()\n",
    "    ps = PorterStemmer()\n",
    "    review = [ps.stem(word) for word in review if not word in set(stopwords.words('english'))]\n",
    "    review = ' '.join(review)\n",
    "    corpus.append(review)\n",
    "\n",
    "# Split the dataset into training and testing sets\n",
    "X = np.array(corpus)\n",
    "y = dataset.iloc[:, 1].values\n",
    "X_train, X_test, y_train, y_test = train_test_split(X, y, test_size=0.3, random_state=42)\n",
    "\n",
    "# Vectorize the text using CountVectorizer\n",
    "cv = CountVectorizer(max_features=1500)\n",
    "X_train_cv = cv.fit_transform(X_train).toarray()\n",
    "X_test_cv = cv.transform(X_test).toarray()\n",
    "\n",
    "# Train a k-Nearest Neighbors classifier\n",
    "knn_classifier = KNeighborsClassifier(n_neighbors=5)\n",
    "knn_classifier.fit(X_train_cv, y_train)\n",
    "\n",
    "# Predict on the test data\n",
    "y_pred_knn = knn_classifier.predict(X_test_cv)\n",
    "\n",
    "# Calculate evaluation metrics\n",
    "accuracy_knn = accuracy_score(y_test, y_pred_knn)\n",
    "precision_knn = precision_score(y_test, y_pred_knn)\n",
    "recall_knn = recall_score(y_test, y_pred_knn)\n",
    "\n",
    "# Train a Naive Bayes classifier\n",
    "naive_bayes_classifier = MultinomialNB(alpha=0.1)\n",
    "naive_bayes_classifier.fit(X_train_cv, y_train)\n",
    "\n",
    "# Predict on the test data\n",
    "y_pred_nb = naive_bayes_classifier.predict(X_test_cv)\n",
    "\n",
    "# Calculate evaluation metrics\n",
    "accuracy_nb = accuracy_score(y_test, y_pred_nb)\n",
    "precision_nb = precision_score(y_test, y_pred_nb)\n",
    "recall_nb = recall_score(y_test, y_pred_nb)\n",
    "\n",
    "# Print evaluation metrics and confusion matrices\n",
    "print(\"k-Nearest Neighbors Classifier:\")\n",
    "print(\"Accuracy:\", round(accuracy_knn * 100, 2), \"%\")\n",
    "print(\"Precision:\", round(precision_knn, 2))\n",
    "print(\"Recall:\", round(recall_knn, 2))\n",
    "print(\"Confusion Matrix:\")\n",
    "print(confusion_matrix(y_test, y_pred_knn))\n",
    "\n",
    "print(\"\\nNaive Bayes Classifier:\")\n",
    "print(\"Accuracy:\", round(accuracy_nb * 100, 2), \"%\")\n",
    "print(\"Precision:\", round(precision_nb, 2))\n",
    "print(\"Recall:\", round(recall_nb, 2))\n",
    "print(\"Confusion Matrix:\")\n",
    "print(confusion_matrix(y_test, y_pred_nb))\n"
   ]
  },
  {
   "cell_type": "code",
   "execution_count": null,
   "id": "10e2697d-9f47-485b-968f-2c5a7dfd8e1a",
   "metadata": {},
   "outputs": [],
   "source": []
  }
 ],
 "metadata": {
  "kernelspec": {
   "display_name": "Python 3 (ipykernel)",
   "language": "python",
   "name": "python3"
  },
  "language_info": {
   "codemirror_mode": {
    "name": "ipython",
    "version": 3
   },
   "file_extension": ".py",
   "mimetype": "text/x-python",
   "name": "python",
   "nbconvert_exporter": "python",
   "pygments_lexer": "ipython3",
   "version": "3.10.1"
  }
 },
 "nbformat": 4,
 "nbformat_minor": 5
}
